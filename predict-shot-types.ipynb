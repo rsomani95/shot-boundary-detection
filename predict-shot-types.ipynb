{
 "cells": [
  {
   "cell_type": "markdown",
   "metadata": {},
   "source": [
    "## Basic Setup"
   ]
  },
  {
   "cell_type": "code",
   "execution_count": 13,
   "metadata": {
    "ExecuteTime": {
     "end_time": "2019-11-30T07:18:42.782003Z",
     "start_time": "2019-11-30T07:18:42.776740Z"
    }
   },
   "outputs": [],
   "source": [
    "from IPython.core.interactiveshell import InteractiveShell\n",
    "InteractiveShell.ast_node_interactivity = \"all\"\n",
    "\n",
    "from fastai.vision import *\n",
    "from pathlib import Path\n",
    "from utils import *\n",
    "from tqdm import tqdm, tqdm_notebook\n",
    "import matplotlib.pyplot as plt\n",
    "import cv2"
   ]
  },
  {
   "cell_type": "code",
   "execution_count": 2,
   "metadata": {
    "ExecuteTime": {
     "end_time": "2019-11-30T06:59:10.808281Z",
     "start_time": "2019-11-30T06:59:06.523791Z"
    }
   },
   "outputs": [],
   "source": [
    "%%capture\n",
    "learn = load_learner('/home/rahul/github_projects/shot-type-classifier/models/', file='shot-type-classifier.pkl');"
   ]
  },
  {
   "cell_type": "code",
   "execution_count": 3,
   "metadata": {
    "ExecuteTime": {
     "end_time": "2019-11-30T06:59:10.812233Z",
     "start_time": "2019-11-30T06:59:10.809928Z"
    }
   },
   "outputs": [],
   "source": [
    "path = Path('/home/rahul/Desktop/movies/the-social-network-splits/')"
   ]
  },
  {
   "cell_type": "markdown",
   "metadata": {},
   "source": [
    "## Reading in Video with `cv2`\n",
    "\n",
    "Somehow, when reading in videos with `cv2`, the last 5 frames always get skipped."
   ]
  },
  {
   "cell_type": "markdown",
   "metadata": {},
   "source": [
    "<h3> OpenCV Properties with Indices </h3>\n",
    "\n",
    "0. `CV_CAP_PROP_POS_MSEC` Current position of the video file in milliseconds.\n",
    "1. `CV_CAP_PROP_POS_FRAMES` 0-based index of the frame to be decoded/captured next.\n",
    "2. `CV_CAP_PROP_POS_AVI_RATIO` Relative position of the video file\n",
    "3. `CV_CAP_PROP_FRAME_WIDTH` Width of the frames in the video stream.\n",
    "4. `CV_CAP_PROP_FRAME_HEIGHT` Height of the frames in the video stream.\n",
    "5. `CV_CAP_PROP_FPS` Frame rate.\n",
    "6. `CV_CAP_PROP_FOURCC` 4-character code of codec.\n",
    "7. `CV_CAP_PROP_FRAME_COUNT` Number of frames in the video file.\n",
    "8. `CV_CAP_PROP_FORMAT` Format of the Mat objects returned by retrieve() .\n",
    "9. `CV_CAP_PROP_MODE` Backend-specific value indicating the current capture mode.\n",
    "10. `CV_CAP_PROP_BRIGHTNESS` Brightness of the image (only for cameras).\n",
    "11. `CV_CAP_PROP_CONTRAST` Contrast of the image (only for cameras).\n",
    "12. `CV_CAP_PROP_SATURATION` Saturation of the image (only for cameras).\n",
    "13. `CV_CAP_PROP_HUE` Hue of the image (only for cameras).\n",
    "14. `CV_CAP_PROP_GAIN` Gain of the image (only for cameras).\n",
    "15. `CV_CAP_PROP_EXPOSURE` Exposure (only for cameras).\n",
    "16. `CV_CAP_PROP_CONVERT_RGB` Boolean flags indicating whether images should be converted to RGB.\n",
    "17. `CV_CAP_PROP_WHITE_BALANCE` Currently unsupported\n",
    "18. `CV_CAP_PROP_RECTIFICATION` Rectification flag for stereo cameras (note: only supported by DC1394 v 2.x backend currently)"
   ]
  },
  {
   "cell_type": "code",
   "execution_count": 4,
   "metadata": {
    "ExecuteTime": {
     "end_time": "2019-11-30T06:59:10.823779Z",
     "start_time": "2019-11-30T06:59:10.813297Z"
    }
   },
   "outputs": [],
   "source": [
    "from fastai.vision import *\n",
    "\n",
    "get_fps     = lambda fname: cv2.VideoCapture(fname).get(cv2.CAP_PROP_FPS)\n",
    "get_nframes = lambda fname: int(cv2.VideoCapture(fname).get(cv2.CAP_PROP_FRAME_COUNT))\n",
    "to_tensor   = lambda x: pil2tensor(x, np.float32).div_(255)\n",
    "to_img      = lambda x: Image(pil2tensor(x, np.float32).div_(255))\n",
    "\n",
    "def grab_frames(fname, frames, ret_type='fastai'):\n",
    "    '''\n",
    "    Doc goes here hehe...\n",
    "    '''\n",
    "    # essential checks\n",
    "    assert ret_type in ['np', 'fastai', 'tensor'], 'Choose either \\'np\\',  \\'fastai\\' or \\'tensor\\' as your return type'\n",
    "    assert isinstance(frames, (tuple, list, int)), '`frames` must be either a tuple, list, or int'\n",
    "    \n",
    "    # prep video\n",
    "    fps, num_frames = get_fps(fname), get_nframes(fname)\n",
    "\n",
    "    # get frame indices (targets) for video\n",
    "    if   isinstance(frames, tuple) : target_frames = np.arange(*frames)\n",
    "    elif isinstance(frames, list)  : target_frames = frames\n",
    "    elif isinstance(frames, int)   : target_frames = [frames]\n",
    "\n",
    "    # grab the targeted frames\n",
    "    grabbed=[]\n",
    "    for i in target_frames:\n",
    "        cap = cv2.VideoCapture(fname)\n",
    "        cap.set(cv2.CAP_PROP_POS_FRAMES, i)\n",
    "        ret, frame = cap.read()\n",
    "        if ret==True: grabbed.append(cv2.cvtColor(frame, cv2.COLOR_BGR2RGB)) # return np.array\n",
    "        else: break\n",
    "    cap.release()\n",
    "    \n",
    "    # optionally return fastai.vision.image.Image for convenience\n",
    "    # this allows you to run `learn.predict()` and view the image directly. \n",
    "    if ret_type == 'fastai': grabbed = [to_img(x) for x in grabbed]\n",
    "    if ret_type == 'tensor': grabbed = torch.stack([to_tensor(x) for x in grabbed])\n",
    "    \n",
    "    return grabbed, target_frames, (fname, fps, num_frames)\n"
   ]
  },
  {
   "cell_type": "code",
   "execution_count": 5,
   "metadata": {
    "ExecuteTime": {
     "end_time": "2019-11-30T06:59:10.834545Z",
     "start_time": "2019-11-30T06:59:10.825015Z"
    }
   },
   "outputs": [],
   "source": [
    "get_shot_idx  = lambda path: int(\n",
    "    str(path)            ## /home/...../shot#0002.mp4\n",
    "        .rsplit('/')[-1] ## shot#0002.mp4\n",
    "        .split('.')[0]   ## shot#0002\n",
    "        .split('#')[-1]  ## 0002 --> 2\n",
    ")\n",
    "\n",
    "# f = str(path/'shot#0002.mp4')\n",
    "# get_shot_idx(f)\n",
    "# get_shot_idx(os.listdir(path)[0])\n",
    "\n",
    "def get_key_pred(df):\n",
    "    i = df.groupby(['shot_no'])['prediction'].transform(max) == df['prediction']\n",
    "    return df[i]\n",
    "\n",
    "def predict(frame, frame_idx, fname, fps, num_frames):\n",
    "    classes = ['Close-Up', 'Extreme Close-Up', 'Extreme Wide', 'Long', 'Medium', 'Medium Close-Up']\n",
    "    shot_idx = get_shot_idx(fname)\n",
    "\n",
    "    # get preds\n",
    "    pred, _, pred_ps = learn.predict(frame)\n",
    "\n",
    "    # form data-frame\n",
    "    df = pd.DataFrame(list(zip(classes, pred_ps.numpy())), columns=['shot_type', 'prediction'])\n",
    "\n",
    "    # replace shot-types with acronyms\n",
    "    df['shot_type'].replace({    'Extreme Wide': 'EWS',\n",
    "                                         'Long': 'LS',\n",
    "                                       'Medium': 'MS',\n",
    "                              'Medium Close-Up': 'MCU',\n",
    "                                     'Close-Up': 'CU',\n",
    "                             'Extreme Close-Up': 'ECU'}, inplace=True)\n",
    "    # set sorting order for shot-types and sort\n",
    "    df['shot_type'] = pd.Categorical(df['shot_type'], ['EWS', 'LS', 'MS', 'MCU', 'CU', 'ECU'])\n",
    "    df = df.sort_values('shot_type').reset_index(drop=True)\n",
    "\n",
    "    # add more info\n",
    "    df['prediction'] *= 100\n",
    "    df['frame_no']    = frame_idx+1\n",
    "    df['shot_no']     = shot_idx\n",
    "    df['shot_length'] = num_frames / get_fps(fname)\n",
    "    \n",
    "    #print(f'Shot #{shot_idx:04d}, Frame #{frame_idx+1:04d}: {pred}')\n",
    "    return df, get_key_pred(df)"
   ]
  },
  {
   "cell_type": "raw",
   "metadata": {
    "ExecuteTime": {
     "end_time": "2019-11-30T00:36:19.609002Z",
     "start_time": "2019-11-30T00:36:07.835635Z"
    }
   },
   "source": [
    "preds=[]\n",
    "for fname in sorted(os.listdir(path))[:3]:\n",
    "    # prep video and its properties\n",
    "    frame_stride  = 12\n",
    "    target_frames = (0, get_nframes(fname), frame_stride)    \n",
    "    frames, info  = grab_frames(fname, target_frames)\n",
    "\n",
    "    # get predictions with multiple levels of info\n",
    "    preds.append([learn.predict(frame) for frame in frames])\n",
    " "
   ]
  },
  {
   "cell_type": "code",
   "execution_count": 32,
   "metadata": {
    "ExecuteTime": {
     "end_time": "2019-11-30T07:58:51.733673Z",
     "start_time": "2019-11-30T07:58:51.729016Z"
    }
   },
   "outputs": [
    {
     "data": {
      "text/plain": [
       "'the-social-network'"
      ]
     },
     "execution_count": 32,
     "metadata": {},
     "output_type": "execute_result"
    }
   ],
   "source": [
    "movie_path = '/home/home/rahul/Desktop//Desktop/movies/the-social-network.mkv'\n",
    "movie_name = movie_path.split('/')[-1].split('.')[0]\n",
    "movie_name"
   ]
  },
  {
   "cell_type": "code",
   "execution_count": 54,
   "metadata": {
    "ExecuteTime": {
     "end_time": "2019-11-30T10:04:28.025573Z",
     "start_time": "2019-11-30T09:58:07.644880Z"
    },
    "scrolled": true
   },
   "outputs": [
    {
     "data": {
      "application/vnd.jupyter.widget-view+json": {
       "model_id": "6b40a37370464c5494ae186482681a04",
       "version_major": 2,
       "version_minor": 0
      },
      "text/plain": [
       "HBox(children=(IntProgress(value=0, max=95), HTML(value='')))"
      ]
     },
     "metadata": {},
     "output_type": "display_data"
    },
    {
     "name": "stdout",
     "output_type": "stream",
     "text": [
      "\n"
     ]
    }
   ],
   "source": [
    "preds_key = pd.read_csv(path/'preds-key.csv') if Path.exists(path/'preds-key.csv') else []\n",
    "preds_all = pd.read_csv(path/'preds-all.csv') if Path.exists(path/'preds-all.csv') else []\n",
    "\n",
    "os.chdir(path)\n",
    "fnames = [f for f in sorted(os.listdir(path)) if f.endswith('.mp4')]\n",
    "\n",
    "for fname in tqdm_notebook(fnames[2200:]):\n",
    "    # prep video and its properties\n",
    "    frame_stride  = 6\n",
    "    target_frames = (0, get_nframes(fname), frame_stride)  \n",
    "    frames, target_frames, info  = grab_frames(fname, target_frames)\n",
    "\n",
    "    # get predictions with multiple levels of info\n",
    "    for i,frame in zip(target_frames,frames):\n",
    "        preds_i, pred_i = predict(frame, i, *info)\n",
    "        \n",
    "        # why doesn't this work as a function?\n",
    "        if isinstance(preds_key, list): preds_key.append(pred_i)\n",
    "        else: preds_key = pd.concat([preds_key, pred_i])\n",
    "            \n",
    "        if isinstance(preds_all, list): preds_all.append(preds_i)\n",
    "        else: preds_all = pd.concat([preds_all, preds_i])\n",
    "    \n",
    "    if isinstance(preds_key, list): preds_key = pd.concat(preds_key, ignore_index=True)\n",
    "    if isinstance(preds_all, list): preds_all = pd.concat(preds_all, ignore_index=True)\n",
    "\n",
    "    preds_key.drop_duplicates().to_csv(path/'preds-key.csv', index=False)\n",
    "    preds_all.drop_duplicates().to_csv(path/'preds-all.csv', index=False)\n"
   ]
  },
  {
   "cell_type": "code",
   "execution_count": 56,
   "metadata": {
    "ExecuteTime": {
     "end_time": "2019-11-30T10:04:28.048570Z",
     "start_time": "2019-11-30T10:04:28.045531Z"
    }
   },
   "outputs": [
    {
     "data": {
      "text/plain": [
       "fastai.basic_train.Learner"
      ]
     },
     "execution_count": 56,
     "metadata": {},
     "output_type": "execute_result"
    }
   ],
   "source": [
    "type(learn)"
   ]
  },
  {
   "cell_type": "code",
   "execution_count": 57,
   "metadata": {
    "ExecuteTime": {
     "end_time": "2019-11-30T10:08:20.655133Z",
     "start_time": "2019-11-30T10:08:20.637537Z"
    }
   },
   "outputs": [
    {
     "data": {
      "text/html": [
       "<div>\n",
       "<style scoped>\n",
       "    .dataframe tbody tr th:only-of-type {\n",
       "        vertical-align: middle;\n",
       "    }\n",
       "\n",
       "    .dataframe tbody tr th {\n",
       "        vertical-align: top;\n",
       "    }\n",
       "\n",
       "    .dataframe thead th {\n",
       "        text-align: right;\n",
       "    }\n",
       "</style>\n",
       "<table border=\"1\" class=\"dataframe\">\n",
       "  <thead>\n",
       "    <tr style=\"text-align: right;\">\n",
       "      <th></th>\n",
       "      <th>shot_type</th>\n",
       "      <th>prediction</th>\n",
       "      <th>frame_no</th>\n",
       "      <th>shot_no</th>\n",
       "      <th>shot_length</th>\n",
       "    </tr>\n",
       "  </thead>\n",
       "  <tbody>\n",
       "    <tr>\n",
       "      <td>0</td>\n",
       "      <td>EWS</td>\n",
       "      <td>92.825830</td>\n",
       "      <td>1</td>\n",
       "      <td>1</td>\n",
       "      <td>30.739042</td>\n",
       "    </tr>\n",
       "    <tr>\n",
       "      <td>1</td>\n",
       "      <td>EWS</td>\n",
       "      <td>93.818545</td>\n",
       "      <td>7</td>\n",
       "      <td>1</td>\n",
       "      <td>30.739042</td>\n",
       "    </tr>\n",
       "    <tr>\n",
       "      <td>2</td>\n",
       "      <td>EWS</td>\n",
       "      <td>95.311713</td>\n",
       "      <td>13</td>\n",
       "      <td>1</td>\n",
       "      <td>30.739042</td>\n",
       "    </tr>\n",
       "    <tr>\n",
       "      <td>3</td>\n",
       "      <td>EWS</td>\n",
       "      <td>92.505276</td>\n",
       "      <td>19</td>\n",
       "      <td>1</td>\n",
       "      <td>30.739042</td>\n",
       "    </tr>\n",
       "    <tr>\n",
       "      <td>4</td>\n",
       "      <td>EWS</td>\n",
       "      <td>90.770406</td>\n",
       "      <td>25</td>\n",
       "      <td>1</td>\n",
       "      <td>30.739042</td>\n",
       "    </tr>\n",
       "    <tr>\n",
       "      <td>...</td>\n",
       "      <td>...</td>\n",
       "      <td>...</td>\n",
       "      <td>...</td>\n",
       "      <td>...</td>\n",
       "      <td>...</td>\n",
       "    </tr>\n",
       "    <tr>\n",
       "      <td>4</td>\n",
       "      <td>CU</td>\n",
       "      <td>99.936980</td>\n",
       "      <td>205</td>\n",
       "      <td>2296</td>\n",
       "      <td>9.634625</td>\n",
       "    </tr>\n",
       "    <tr>\n",
       "      <td>4</td>\n",
       "      <td>CU</td>\n",
       "      <td>99.969363</td>\n",
       "      <td>211</td>\n",
       "      <td>2296</td>\n",
       "      <td>9.634625</td>\n",
       "    </tr>\n",
       "    <tr>\n",
       "      <td>4</td>\n",
       "      <td>CU</td>\n",
       "      <td>99.965477</td>\n",
       "      <td>217</td>\n",
       "      <td>2296</td>\n",
       "      <td>9.634625</td>\n",
       "    </tr>\n",
       "    <tr>\n",
       "      <td>4</td>\n",
       "      <td>CU</td>\n",
       "      <td>99.925834</td>\n",
       "      <td>223</td>\n",
       "      <td>2296</td>\n",
       "      <td>9.634625</td>\n",
       "    </tr>\n",
       "    <tr>\n",
       "      <td>4</td>\n",
       "      <td>CU</td>\n",
       "      <td>99.900913</td>\n",
       "      <td>229</td>\n",
       "      <td>2296</td>\n",
       "      <td>9.634625</td>\n",
       "    </tr>\n",
       "  </tbody>\n",
       "</table>\n",
       "<p>27526 rows × 5 columns</p>\n",
       "</div>"
      ],
      "text/plain": [
       "   shot_type  prediction  frame_no  shot_no  shot_length\n",
       "0        EWS   92.825830         1        1    30.739042\n",
       "1        EWS   93.818545         7        1    30.739042\n",
       "2        EWS   95.311713        13        1    30.739042\n",
       "3        EWS   92.505276        19        1    30.739042\n",
       "4        EWS   90.770406        25        1    30.739042\n",
       "..       ...         ...       ...      ...          ...\n",
       "4         CU   99.936980       205     2296     9.634625\n",
       "4         CU   99.969363       211     2296     9.634625\n",
       "4         CU   99.965477       217     2296     9.634625\n",
       "4         CU   99.925834       223     2296     9.634625\n",
       "4         CU   99.900913       229     2296     9.634625\n",
       "\n",
       "[27526 rows x 5 columns]"
      ]
     },
     "execution_count": 57,
     "metadata": {},
     "output_type": "execute_result"
    }
   ],
   "source": [
    "order = lambda df: df.sort_values(['shot_no', 'frame_no'])\n",
    "order(preds_key)"
   ]
  },
  {
   "cell_type": "code",
   "execution_count": null,
   "metadata": {},
   "outputs": [],
   "source": []
  }
 ],
 "metadata": {
  "kernelspec": {
   "display_name": "Python 3",
   "language": "python",
   "name": "python3"
  },
  "language_info": {
   "codemirror_mode": {
    "name": "ipython",
    "version": 3
   },
   "file_extension": ".py",
   "mimetype": "text/x-python",
   "name": "python",
   "nbconvert_exporter": "python",
   "pygments_lexer": "ipython3",
   "version": "3.7.4"
  }
 },
 "nbformat": 4,
 "nbformat_minor": 2
}
