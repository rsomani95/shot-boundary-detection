{
 "cells": [
  {
   "cell_type": "markdown",
   "metadata": {},
   "source": [
    "## Basic Setup"
   ]
  },
  {
   "cell_type": "code",
   "execution_count": 1,
   "metadata": {
    "ExecuteTime": {
     "end_time": "2019-11-28T16:26:26.865106Z",
     "start_time": "2019-11-28T16:26:25.381970Z"
    }
   },
   "outputs": [],
   "source": [
    "from IPython.core.interactiveshell import InteractiveShell\n",
    "InteractiveShell.ast_node_interactivity = \"all\"\n",
    "\n",
    "from fastai.vision import *\n",
    "from pathlib import Path\n",
    "from utils import *\n",
    "import matplotlib.pyplot as plt\n",
    "import cv2"
   ]
  },
  {
   "cell_type": "code",
   "execution_count": 3,
   "metadata": {
    "ExecuteTime": {
     "end_time": "2019-11-28T16:26:30.647828Z",
     "start_time": "2019-11-28T16:26:30.561215Z"
    }
   },
   "outputs": [],
   "source": [
    "learn = load_learner('/home/rahul/github_projects/shot-type-classifier/models/', file='shot-type-classifier.pkl');"
   ]
  },
  {
   "cell_type": "code",
   "execution_count": 4,
   "metadata": {
    "ExecuteTime": {
     "end_time": "2019-11-28T16:26:30.651181Z",
     "start_time": "2019-11-28T16:26:30.649150Z"
    }
   },
   "outputs": [],
   "source": [
    "path = Path('/home/rahul/Desktop/movies/the-social-network-splits/')"
   ]
  },
  {
   "cell_type": "markdown",
   "metadata": {},
   "source": [
    "## Reading in Video with `cv2`\n",
    "\n",
    "Somehow, when reading in videos with `cv2`, the last 5 frames always get skipped."
   ]
  },
  {
   "cell_type": "markdown",
   "metadata": {},
   "source": [
    "<h3> OpenCV Properties with Indices </h3>\n",
    "\n",
    "0. `CV_CAP_PROP_POS_MSEC` Current position of the video file in milliseconds.\n",
    "1. `CV_CAP_PROP_POS_FRAMES` 0-based index of the frame to be decoded/captured next.\n",
    "2. `CV_CAP_PROP_POS_AVI_RATIO` Relative position of the video file\n",
    "3. `CV_CAP_PROP_FRAME_WIDTH` Width of the frames in the video stream.\n",
    "4. `CV_CAP_PROP_FRAME_HEIGHT` Height of the frames in the video stream.\n",
    "5. `CV_CAP_PROP_FPS` Frame rate.\n",
    "6. `CV_CAP_PROP_FOURCC` 4-character code of codec.\n",
    "7. `CV_CAP_PROP_FRAME_COUNT` Number of frames in the video file.\n",
    "8. `CV_CAP_PROP_FORMAT` Format of the Mat objects returned by retrieve() .\n",
    "9. `CV_CAP_PROP_MODE` Backend-specific value indicating the current capture mode.\n",
    "10. `CV_CAP_PROP_BRIGHTNESS` Brightness of the image (only for cameras).\n",
    "11. `CV_CAP_PROP_CONTRAST` Contrast of the image (only for cameras).\n",
    "12. `CV_CAP_PROP_SATURATION` Saturation of the image (only for cameras).\n",
    "13. `CV_CAP_PROP_HUE` Hue of the image (only for cameras).\n",
    "14. `CV_CAP_PROP_GAIN` Gain of the image (only for cameras).\n",
    "15. `CV_CAP_PROP_EXPOSURE` Exposure (only for cameras).\n",
    "16. `CV_CAP_PROP_CONVERT_RGB` Boolean flags indicating whether images should be converted to RGB.\n",
    "17. `CV_CAP_PROP_WHITE_BALANCE` Currently unsupported\n",
    "18. `CV_CAP_PROP_RECTIFICATION` Rectification flag for stereo cameras (note: only supported by DC1394 v 2.x backend currently)"
   ]
  },
  {
   "cell_type": "code",
   "execution_count": 198,
   "metadata": {
    "ExecuteTime": {
     "end_time": "2019-11-28T18:11:21.791110Z",
     "start_time": "2019-11-28T18:11:21.777451Z"
    }
   },
   "outputs": [],
   "source": [
    "to_img = lambda x: Image(pil2tensor(x, np.float32).div_(255))\n",
    "\n",
    "get_shot_idx  = lambda path: int(\n",
    "    str(path)            ## /home/...../shot#0002.mp4\n",
    "        .rsplit('/')[-1] ## shot#0002.mp4\n",
    "        .split('.')[0]   ## shot#0002\n",
    "        .split('#')[-1]  ## 0002 --> 2\n",
    ")\n",
    "\n",
    "# f = str(path/'shot#0002.mp4')\n",
    "# get_shot_idx(f)\n",
    "# get_shot_idx(os.listdir(path)[0])\n",
    "\n",
    "def get_key_pred(df):\n",
    "    i = df.groupby(['shot_no'])['prediction'].transform(max) == df['prediction']\n",
    "    return df[i]\n",
    "\n",
    "def predict(frame, frame_idx, fname, fps=fps, num_frames=num_frames):\n",
    "    classes = ['Close-Up', 'Extreme Close-Up', 'Extreme Wide',\n",
    "               'Long', 'Medium', 'Medium Close-Up']\n",
    "    shot_idx = get_shot_idx(fname)\n",
    "\n",
    "    # get preds\n",
    "    pred, _, pred_ps = learn.predict(to_img(frame))\n",
    "\n",
    "    # form data-frame\n",
    "    df = pd.DataFrame(list(zip(classes, pred_ps.numpy())), columns=['shot-type', 'prediction'])\n",
    "\n",
    "    # replace shot-types with acronyms\n",
    "    df['shot-type'].replace({    'Extreme Wide': 'EWS',\n",
    "                                         'Long': 'LS',\n",
    "                                       'Medium': 'MS',\n",
    "                              'Medium Close-Up': 'MCU',\n",
    "                                     'Close-Up': 'CU',\n",
    "                             'Extreme Close-Up': 'ECU'}, inplace=True)\n",
    "    # set sorting order for shot-types and sort\n",
    "    df['shot-type'] = pd.Categorical(df['shot-type'], ['EWS', 'LS', 'MS', 'MCU', 'CU', 'ECU'])\n",
    "    df = df.sort_values('shot-type').reset_index(drop=True)\n",
    "\n",
    "    # add more info\n",
    "    df['prediction'] *= 100\n",
    "    df['frame_no']    = frame_idx+1\n",
    "    df['shot_no']     = shot_idx\n",
    "    df['shot_length'] = num_frames / fps\n",
    "    \n",
    "    print(f'Shot #{shot_idx:04d}, Frame #{frame_idx+1:04d}: {pred}')\n",
    "    return df, get_key_pred(df)"
   ]
  },
  {
   "cell_type": "code",
   "execution_count": 206,
   "metadata": {
    "ExecuteTime": {
     "end_time": "2019-11-28T18:44:44.875294Z",
     "start_time": "2019-11-28T18:44:43.598282Z"
    },
    "scrolled": true
   },
   "outputs": [
    {
     "data": {
      "text/plain": [
       "True"
      ]
     },
     "execution_count": 206,
     "metadata": {},
     "output_type": "execute_result"
    },
    {
     "data": {
      "text/plain": [
       "True"
      ]
     },
     "execution_count": 206,
     "metadata": {},
     "output_type": "execute_result"
    },
    {
     "data": {
      "text/plain": [
       "True"
      ]
     },
     "execution_count": 206,
     "metadata": {},
     "output_type": "execute_result"
    },
    {
     "data": {
      "text/plain": [
       "True"
      ]
     },
     "execution_count": 206,
     "metadata": {},
     "output_type": "execute_result"
    },
    {
     "data": {
      "text/plain": [
       "True"
      ]
     },
     "execution_count": 206,
     "metadata": {},
     "output_type": "execute_result"
    },
    {
     "data": {
      "text/plain": [
       "True"
      ]
     },
     "execution_count": 206,
     "metadata": {},
     "output_type": "execute_result"
    },
    {
     "data": {
      "text/plain": [
       "True"
      ]
     },
     "execution_count": 206,
     "metadata": {},
     "output_type": "execute_result"
    },
    {
     "name": "stdout",
     "output_type": "stream",
     "text": [
      "Shot #0004, Frame #0002: Close-Up\n",
      "Shot #0004, Frame #0007: Close-Up\n",
      "Shot #0004, Frame #0012: Close-Up\n",
      "Shot #0004, Frame #0017: Close-Up\n",
      "Shot #0004, Frame #0022: Close-Up\n",
      "Shot #0004, Frame #0027: Close-Up\n",
      "Shot #0004, Frame #0032: Close-Up\n"
     ]
    },
    {
     "data": {
      "text/plain": [
       "True"
      ]
     },
     "execution_count": 206,
     "metadata": {},
     "output_type": "execute_result"
    },
    {
     "data": {
      "text/plain": [
       "True"
      ]
     },
     "execution_count": 206,
     "metadata": {},
     "output_type": "execute_result"
    },
    {
     "data": {
      "text/plain": [
       "True"
      ]
     },
     "execution_count": 206,
     "metadata": {},
     "output_type": "execute_result"
    },
    {
     "data": {
      "text/plain": [
       "True"
      ]
     },
     "execution_count": 206,
     "metadata": {},
     "output_type": "execute_result"
    },
    {
     "data": {
      "text/plain": [
       "True"
      ]
     },
     "execution_count": 206,
     "metadata": {},
     "output_type": "execute_result"
    },
    {
     "data": {
      "text/plain": [
       "True"
      ]
     },
     "execution_count": 206,
     "metadata": {},
     "output_type": "execute_result"
    },
    {
     "name": "stdout",
     "output_type": "stream",
     "text": [
      "Shot #0005, Frame #0002: Close-Up\n",
      "Shot #0005, Frame #0007: Close-Up\n",
      "Shot #0005, Frame #0012: Close-Up\n",
      "Shot #0005, Frame #0017: Close-Up\n",
      "Shot #0005, Frame #0022: Close-Up\n",
      "Shot #0005, Frame #0027: Close-Up\n"
     ]
    }
   ],
   "source": [
    "preds_all, preds_key = [], []\n",
    "os.chdir(path)\n",
    "\n",
    "for fname in sorted(os.listdir(path))[3:5]:\n",
    "    # prep video and its properties\n",
    "    cap = cv2.VideoCapture(fname)\n",
    "    fps = cap.get(cv2.CAP_PROP_FPS)\n",
    "    num_frames = int(cap.get(cv2.CAP_PROP_FRAME_COUNT))\n",
    "    \n",
    "    # get frame indices (targets) for video\n",
    "    frame_stride=5\n",
    "    target_frames = np.arange(num_frames)[1::frame_stride]\n",
    "\n",
    "    # grab the targeted frames\n",
    "    frames=[]\n",
    "    for i in target_frames:\n",
    "        cap.set(cv2.CAP_PROP_POS_FRAMES, i)\n",
    "        ret, frame = cap.read()\n",
    "        if ret==True: frames.append(cv2.cvtColor(frame, cv2.COLOR_BGR2RGB))\n",
    "        else: break\n",
    "    cap.release()\n",
    "\n",
    "    # get predictions with multiple levels of info\n",
    "    for i,frame in zip(target_frames,frames):\n",
    "        pred_all, pred_key = predict(frame, i, fname, fps, num_frames)\n",
    "        preds_all.append(pred_all); preds_key.append(pred_key)\n",
    "        \n",
    "preds_all = pd.concat(preds_all, ignore_index=True)\n",
    "preds_key = pd.concat(preds_key, ignore_index=True)"
   ]
  },
  {
   "cell_type": "code",
   "execution_count": 207,
   "metadata": {
    "ExecuteTime": {
     "end_time": "2019-11-28T18:44:58.154360Z",
     "start_time": "2019-11-28T18:44:58.140016Z"
    }
   },
   "outputs": [
    {
     "data": {
      "text/html": [
       "<div>\n",
       "<style scoped>\n",
       "    .dataframe tbody tr th:only-of-type {\n",
       "        vertical-align: middle;\n",
       "    }\n",
       "\n",
       "    .dataframe tbody tr th {\n",
       "        vertical-align: top;\n",
       "    }\n",
       "\n",
       "    .dataframe thead th {\n",
       "        text-align: right;\n",
       "    }\n",
       "</style>\n",
       "<table border=\"1\" class=\"dataframe\">\n",
       "  <thead>\n",
       "    <tr style=\"text-align: right;\">\n",
       "      <th></th>\n",
       "      <th>shot-type</th>\n",
       "      <th>prediction</th>\n",
       "      <th>frame_no</th>\n",
       "      <th>shot_no</th>\n",
       "      <th>shot_length</th>\n",
       "    </tr>\n",
       "  </thead>\n",
       "  <tbody>\n",
       "    <tr>\n",
       "      <td>0</td>\n",
       "      <td>EWS</td>\n",
       "      <td>0.002569</td>\n",
       "      <td>2</td>\n",
       "      <td>4</td>\n",
       "      <td>1.334667</td>\n",
       "    </tr>\n",
       "    <tr>\n",
       "      <td>1</td>\n",
       "      <td>LS</td>\n",
       "      <td>0.001226</td>\n",
       "      <td>2</td>\n",
       "      <td>4</td>\n",
       "      <td>1.334667</td>\n",
       "    </tr>\n",
       "    <tr>\n",
       "      <td>2</td>\n",
       "      <td>MS</td>\n",
       "      <td>0.003324</td>\n",
       "      <td>2</td>\n",
       "      <td>4</td>\n",
       "      <td>1.334667</td>\n",
       "    </tr>\n",
       "    <tr>\n",
       "      <td>3</td>\n",
       "      <td>MCU</td>\n",
       "      <td>1.149294</td>\n",
       "      <td>2</td>\n",
       "      <td>4</td>\n",
       "      <td>1.334667</td>\n",
       "    </tr>\n",
       "    <tr>\n",
       "      <td>4</td>\n",
       "      <td>CU</td>\n",
       "      <td>98.827076</td>\n",
       "      <td>2</td>\n",
       "      <td>4</td>\n",
       "      <td>1.334667</td>\n",
       "    </tr>\n",
       "    <tr>\n",
       "      <td>...</td>\n",
       "      <td>...</td>\n",
       "      <td>...</td>\n",
       "      <td>...</td>\n",
       "      <td>...</td>\n",
       "      <td>...</td>\n",
       "    </tr>\n",
       "    <tr>\n",
       "      <td>73</td>\n",
       "      <td>LS</td>\n",
       "      <td>0.001502</td>\n",
       "      <td>27</td>\n",
       "      <td>5</td>\n",
       "      <td>1.251250</td>\n",
       "    </tr>\n",
       "    <tr>\n",
       "      <td>74</td>\n",
       "      <td>MS</td>\n",
       "      <td>0.012961</td>\n",
       "      <td>27</td>\n",
       "      <td>5</td>\n",
       "      <td>1.251250</td>\n",
       "    </tr>\n",
       "    <tr>\n",
       "      <td>75</td>\n",
       "      <td>MCU</td>\n",
       "      <td>23.090650</td>\n",
       "      <td>27</td>\n",
       "      <td>5</td>\n",
       "      <td>1.251250</td>\n",
       "    </tr>\n",
       "    <tr>\n",
       "      <td>76</td>\n",
       "      <td>CU</td>\n",
       "      <td>76.863283</td>\n",
       "      <td>27</td>\n",
       "      <td>5</td>\n",
       "      <td>1.251250</td>\n",
       "    </tr>\n",
       "    <tr>\n",
       "      <td>77</td>\n",
       "      <td>ECU</td>\n",
       "      <td>0.029302</td>\n",
       "      <td>27</td>\n",
       "      <td>5</td>\n",
       "      <td>1.251250</td>\n",
       "    </tr>\n",
       "  </tbody>\n",
       "</table>\n",
       "<p>78 rows × 5 columns</p>\n",
       "</div>"
      ],
      "text/plain": [
       "   shot-type  prediction  frame_no  shot_no  shot_length\n",
       "0        EWS    0.002569         2        4     1.334667\n",
       "1         LS    0.001226         2        4     1.334667\n",
       "2         MS    0.003324         2        4     1.334667\n",
       "3        MCU    1.149294         2        4     1.334667\n",
       "4         CU   98.827076         2        4     1.334667\n",
       "..       ...         ...       ...      ...          ...\n",
       "73        LS    0.001502        27        5     1.251250\n",
       "74        MS    0.012961        27        5     1.251250\n",
       "75       MCU   23.090650        27        5     1.251250\n",
       "76        CU   76.863283        27        5     1.251250\n",
       "77       ECU    0.029302        27        5     1.251250\n",
       "\n",
       "[78 rows x 5 columns]"
      ]
     },
     "execution_count": 207,
     "metadata": {},
     "output_type": "execute_result"
    }
   ],
   "source": [
    "preds_all"
   ]
  },
  {
   "cell_type": "code",
   "execution_count": 208,
   "metadata": {
    "ExecuteTime": {
     "end_time": "2019-11-28T18:45:06.556382Z",
     "start_time": "2019-11-28T18:45:06.544863Z"
    }
   },
   "outputs": [
    {
     "data": {
      "text/html": [
       "<div>\n",
       "<style scoped>\n",
       "    .dataframe tbody tr th:only-of-type {\n",
       "        vertical-align: middle;\n",
       "    }\n",
       "\n",
       "    .dataframe tbody tr th {\n",
       "        vertical-align: top;\n",
       "    }\n",
       "\n",
       "    .dataframe thead th {\n",
       "        text-align: right;\n",
       "    }\n",
       "</style>\n",
       "<table border=\"1\" class=\"dataframe\">\n",
       "  <thead>\n",
       "    <tr style=\"text-align: right;\">\n",
       "      <th></th>\n",
       "      <th>shot-type</th>\n",
       "      <th>prediction</th>\n",
       "      <th>frame_no</th>\n",
       "      <th>shot_no</th>\n",
       "      <th>shot_length</th>\n",
       "    </tr>\n",
       "  </thead>\n",
       "  <tbody>\n",
       "    <tr>\n",
       "      <td>0</td>\n",
       "      <td>CU</td>\n",
       "      <td>98.827076</td>\n",
       "      <td>2</td>\n",
       "      <td>4</td>\n",
       "      <td>1.334667</td>\n",
       "    </tr>\n",
       "    <tr>\n",
       "      <td>1</td>\n",
       "      <td>CU</td>\n",
       "      <td>98.840779</td>\n",
       "      <td>7</td>\n",
       "      <td>4</td>\n",
       "      <td>1.334667</td>\n",
       "    </tr>\n",
       "    <tr>\n",
       "      <td>2</td>\n",
       "      <td>CU</td>\n",
       "      <td>97.967166</td>\n",
       "      <td>12</td>\n",
       "      <td>4</td>\n",
       "      <td>1.334667</td>\n",
       "    </tr>\n",
       "    <tr>\n",
       "      <td>3</td>\n",
       "      <td>CU</td>\n",
       "      <td>98.168874</td>\n",
       "      <td>17</td>\n",
       "      <td>4</td>\n",
       "      <td>1.334667</td>\n",
       "    </tr>\n",
       "    <tr>\n",
       "      <td>4</td>\n",
       "      <td>CU</td>\n",
       "      <td>96.972692</td>\n",
       "      <td>22</td>\n",
       "      <td>4</td>\n",
       "      <td>1.334667</td>\n",
       "    </tr>\n",
       "    <tr>\n",
       "      <td>5</td>\n",
       "      <td>CU</td>\n",
       "      <td>99.188590</td>\n",
       "      <td>27</td>\n",
       "      <td>4</td>\n",
       "      <td>1.334667</td>\n",
       "    </tr>\n",
       "    <tr>\n",
       "      <td>6</td>\n",
       "      <td>CU</td>\n",
       "      <td>97.409058</td>\n",
       "      <td>32</td>\n",
       "      <td>4</td>\n",
       "      <td>1.334667</td>\n",
       "    </tr>\n",
       "    <tr>\n",
       "      <td>7</td>\n",
       "      <td>CU</td>\n",
       "      <td>80.196357</td>\n",
       "      <td>2</td>\n",
       "      <td>5</td>\n",
       "      <td>1.251250</td>\n",
       "    </tr>\n",
       "    <tr>\n",
       "      <td>8</td>\n",
       "      <td>CU</td>\n",
       "      <td>69.539183</td>\n",
       "      <td>7</td>\n",
       "      <td>5</td>\n",
       "      <td>1.251250</td>\n",
       "    </tr>\n",
       "    <tr>\n",
       "      <td>9</td>\n",
       "      <td>CU</td>\n",
       "      <td>76.747370</td>\n",
       "      <td>12</td>\n",
       "      <td>5</td>\n",
       "      <td>1.251250</td>\n",
       "    </tr>\n",
       "    <tr>\n",
       "      <td>10</td>\n",
       "      <td>CU</td>\n",
       "      <td>63.278288</td>\n",
       "      <td>17</td>\n",
       "      <td>5</td>\n",
       "      <td>1.251250</td>\n",
       "    </tr>\n",
       "    <tr>\n",
       "      <td>11</td>\n",
       "      <td>CU</td>\n",
       "      <td>71.155369</td>\n",
       "      <td>22</td>\n",
       "      <td>5</td>\n",
       "      <td>1.251250</td>\n",
       "    </tr>\n",
       "    <tr>\n",
       "      <td>12</td>\n",
       "      <td>CU</td>\n",
       "      <td>76.863283</td>\n",
       "      <td>27</td>\n",
       "      <td>5</td>\n",
       "      <td>1.251250</td>\n",
       "    </tr>\n",
       "  </tbody>\n",
       "</table>\n",
       "</div>"
      ],
      "text/plain": [
       "   shot-type  prediction  frame_no  shot_no  shot_length\n",
       "0         CU   98.827076         2        4     1.334667\n",
       "1         CU   98.840779         7        4     1.334667\n",
       "2         CU   97.967166        12        4     1.334667\n",
       "3         CU   98.168874        17        4     1.334667\n",
       "4         CU   96.972692        22        4     1.334667\n",
       "5         CU   99.188590        27        4     1.334667\n",
       "6         CU   97.409058        32        4     1.334667\n",
       "7         CU   80.196357         2        5     1.251250\n",
       "8         CU   69.539183         7        5     1.251250\n",
       "9         CU   76.747370        12        5     1.251250\n",
       "10        CU   63.278288        17        5     1.251250\n",
       "11        CU   71.155369        22        5     1.251250\n",
       "12        CU   76.863283        27        5     1.251250"
      ]
     },
     "execution_count": 208,
     "metadata": {},
     "output_type": "execute_result"
    }
   ],
   "source": [
    "preds_key"
   ]
  },
  {
   "cell_type": "markdown",
   "metadata": {
    "heading_collapsed": true
   },
   "source": [
    "## Reading in Video with `ffmpeg-python`\n",
    "\n",
    "Not feasible for larger video files as the entire video is read into memory at once, as opposed to `OpenCV`'s selective frame reading‘"
   ]
  },
  {
   "cell_type": "code",
   "execution_count": 9,
   "metadata": {
    "ExecuteTime": {
     "end_time": "2019-11-28T13:07:13.505467Z",
     "start_time": "2019-11-28T13:07:13.501238Z"
    },
    "hidden": true
   },
   "outputs": [],
   "source": [
    "def predict(x):\n",
    "    preds = learn.predict(x)\n",
    "    return f'{preds[0]} ({\"{:.3f}\".format(preds[2][preds[1]])})'\n",
    "\n",
    "np_to_img = lambda x: Image(pil2tensor(x, np.float32).div_(255))"
   ]
  },
  {
   "cell_type": "code",
   "execution_count": null,
   "metadata": {
    "ExecuteTime": {
     "end_time": "2019-11-28T13:11:51.706576Z",
     "start_time": "2019-11-28T13:11:45.512639Z"
    },
    "hidden": true
   },
   "outputs": [],
   "source": [
    "os.chdir(path)\n",
    "i=5\n",
    "\n",
    "for f in sorted(os.listdir(path))[:3]:\n",
    "    clip = [np_to_img(x) for x in read_video_tensor(f,0)]\n",
    "    [predict(x) for x in clip[0::i]]"
   ]
  },
  {
   "cell_type": "code",
   "execution_count": 6,
   "metadata": {
    "ExecuteTime": {
     "end_time": "2019-11-27T16:28:21.070086Z",
     "start_time": "2019-11-27T16:28:20.608852Z"
    },
    "hidden": true
   },
   "outputs": [],
   "source": [
    "vid = read_video_tensor(path/'shot#1.mp4')\n",
    "vid = [np_to_img(x) for x in vid]"
   ]
  },
  {
   "cell_type": "code",
   "execution_count": 7,
   "metadata": {
    "ExecuteTime": {
     "end_time": "2019-11-27T16:28:24.663704Z",
     "start_time": "2019-11-27T16:28:24.654297Z"
    },
    "hidden": true
   },
   "outputs": [
    {
     "data": {
      "text/plain": [
       "[Image (3, 720, 1280), Image (3, 720, 1280), Image (3, 720, 1280)]"
      ]
     },
     "execution_count": 7,
     "metadata": {},
     "output_type": "execute_result"
    }
   ],
   "source": [
    "vid[0::10]"
   ]
  },
  {
   "cell_type": "code",
   "execution_count": 8,
   "metadata": {
    "ExecuteTime": {
     "end_time": "2019-11-27T16:28:32.088437Z",
     "start_time": "2019-11-27T16:28:27.138407Z"
    },
    "hidden": true
   },
   "outputs": [
    {
     "data": {
      "text/plain": [
       "['Medium Close-Up (0.968)',\n",
       " 'Medium Close-Up (0.973)',\n",
       " 'Medium Close-Up (0.963)',\n",
       " 'Medium Close-Up (0.968)',\n",
       " 'Medium Close-Up (0.971)']"
      ]
     },
     "execution_count": 8,
     "metadata": {},
     "output_type": "execute_result"
    }
   ],
   "source": [
    "i=5\n",
    "[predict(x) for x in vid[0::i]]"
   ]
  },
  {
   "cell_type": "code",
   "execution_count": null,
   "metadata": {
    "hidden": true
   },
   "outputs": [],
   "source": []
  }
 ],
 "metadata": {
  "kernelspec": {
   "display_name": "Python 3",
   "language": "python",
   "name": "python3"
  },
  "language_info": {
   "codemirror_mode": {
    "name": "ipython",
    "version": 3
   },
   "file_extension": ".py",
   "mimetype": "text/x-python",
   "name": "python",
   "nbconvert_exporter": "python",
   "pygments_lexer": "ipython3",
   "version": "3.7.4"
  }
 },
 "nbformat": 4,
 "nbformat_minor": 2
}
